{
  "cells": [
    {
      "cell_type": "code",
      "execution_count": 21,
      "metadata": {
        "id": "a1w4YdHMXooX"
      },
      "outputs": [],
      "source": [
        "import json\n",
        "import torch\n",
        "import json\n",
        "import random\n",
        "import numpy as np\n",
        "import torch.nn as nn\n",
        "import torch.optim as optim\n",
        "import gensim.downloader as api\n",
        "import matplotlib.pyplot as plt\n",
        "import torch.nn.functional as F\n",
        "from torch.nn.utils.rnn import pad_sequence\n",
        "from sklearn.metrics import accuracy_score, f1_score\n",
        "from torch.utils.data import Dataset, DataLoader, TensorDataset"
      ]
    },
    {
      "cell_type": "code",
      "execution_count": 2,
      "metadata": {},
      "outputs": [],
      "source": [
        "# Load pre-trained word embeddings\n",
        "word_vectors = api.load(\"word2vec-google-news-300\")\n",
        "glove_vectors = api.load(\"glove-wiki-gigaword-300\")\n",
        "fasttext_vectors = api.load(\"fasttext-wiki-news-subwords-300\")"
      ]
    },
    {
      "cell_type": "code",
      "execution_count": 34,
      "metadata": {},
      "outputs": [],
      "source": [
        "startTag = \"<START>\"\n",
        "stopTag = \"<STOP>\"\n",
        "\n",
        "def log_sum_exp(vec):\n",
        "    _, idx = torch.max(vec, 1)\n",
        "    max_score = vec[0, idx.item()]\n",
        "    max_score_broadcast = max_score.view(1, -1).expand(1, vec.size()[1])\n",
        "    return max_score + \\\n",
        "        torch.log(torch.sum(torch.exp(vec - max_score_broadcast)))"
      ]
    },
    {
      "cell_type": "code",
      "execution_count": 35,
      "metadata": {
        "id": "ZvAZoKP_XooY"
      },
      "outputs": [],
      "source": [
        "class BiLSTM_CRF(nn.Module):\n",
        "    def __init__(self, vocab_size, tag_to_ix, embedding_dim, hidden_dim, word_embeddings):\n",
        "        super(BiLSTM_CRF, self).__init__()\n",
        "        self.embedding_dim = embedding_dim\n",
        "        self.hidden_dim = hidden_dim\n",
        "        self.vocab_size = vocab_size\n",
        "        self.tag_to_ix = tag_to_ix\n",
        "        self.tagset_size = len(tag_to_ix)\n",
        "        self.word_embeds = nn.Embedding.from_pretrained(word_embeddings, freeze=True)\n",
        "        self.lstm = nn.LSTM(embedding_dim, hidden_dim // 2, num_layers=1, bidirectional=True)\n",
        "        self.hidden2tag = nn.Linear(hidden_dim, self.tagset_size)\n",
        "        self.transitions = nn.Parameter(torch.randn(self.tagset_size, self.tagset_size))\n",
        "        self.transitions.data[tag_to_ix[startTag], :] = -10000\n",
        "        self.transitions.data[:, tag_to_ix[stopTag]] = -10000\n",
        "        self.hidden = (torch.randn(2, 1, self.hidden_dim // 2), torch.randn(2, 1, self.hidden_dim // 2))\n",
        "\n",
        "    def _forward_alg(self, feats):\n",
        "        init_alphas = torch.full((1, self.tagset_size), -10000.)\n",
        "        init_alphas[0][self.tag_to_ix[startTag]] = 0.\n",
        "        forward_var = init_alphas\n",
        "        for feat in feats:\n",
        "            alphas_t = []\n",
        "            for next_tag in range(self.tagset_size):\n",
        "                emit_score = feat[next_tag].view(\n",
        "                    1, -1).expand(1, self.tagset_size)\n",
        "                trans_score = self.transitions[next_tag].view(1, -1)\n",
        "                next_tag_var = forward_var + trans_score + emit_score\n",
        "                alphas_t.append(log_sum_exp(next_tag_var).view(1))\n",
        "            forward_var = torch.cat(alphas_t).view(1, -1)\n",
        "        terminal_var = forward_var + self.transitions[self.tag_to_ix[stopTag]]\n",
        "        alpha = log_sum_exp(terminal_var)\n",
        "        return alpha\n",
        "\n",
        "    def get_features(self, sentence):\n",
        "        self.hidden = (torch.randn(2, 1, self.hidden_dim // 2), torch.randn(2, 1, self.hidden_dim // 2))\n",
        "        embeds = self.word_embeds(sentence).view(len(sentence), 1, -1)\n",
        "        lstm_out, self.hidden = self.lstm(embeds, self.hidden)\n",
        "        lstm_out = lstm_out.view(len(sentence), self.hidden_dim)\n",
        "        lstm_feats = self.hidden2tag(lstm_out)\n",
        "        return lstm_feats\n",
        "\n",
        "    def sentence_score(self, feats, tags):\n",
        "        score = torch.zeros(1)\n",
        "        tags = torch.cat([torch.tensor([self.tag_to_ix[startTag]], dtype=torch.long), tags])\n",
        "        for i, feat in enumerate(feats):\n",
        "            score = score + \\\n",
        "                self.transitions[tags[i + 1], tags[i]] + feat[tags[i + 1]]\n",
        "        score = score + self.transitions[self.tag_to_ix[stopTag], tags[-1]]\n",
        "        return score\n",
        "\n",
        "    def neg_log_likelihood(self, sentence, tags):\n",
        "        feats = self.get_features(sentence)\n",
        "        forward_score = self._forward_alg(feats)\n",
        "        gold_score = self.sentence_score(feats, tags)\n",
        "        return forward_score - gold_score\n",
        "\n",
        "    def forward(self, sentence):  \n",
        "        feats = self.get_features(sentence)\n",
        "        backpointers = []\n",
        "        init_vvars = torch.full((1, self.tagset_size), -10000.)\n",
        "        init_vvars[0][self.tag_to_ix[startTag]] = 0\n",
        "\n",
        "        forward_var = init_vvars\n",
        "        for feat in feats:\n",
        "            bptrs_t = []\n",
        "            viterbivars_t = []\n",
        "            for next_tag in range(self.tagset_size):\n",
        "                next_tag_var = forward_var + self.transitions[next_tag]\n",
        "                _, idx = torch.max(next_tag_var, 1)\n",
        "                best_tag_id = idx.item()\n",
        "                bptrs_t.append(best_tag_id)\n",
        "                viterbivars_t.append(next_tag_var[0][best_tag_id].view(1))\n",
        "            forward_var = (torch.cat(viterbivars_t) + feat).view(1, -1)\n",
        "            backpointers.append(bptrs_t)\n",
        "        \n",
        "        terminal_var = forward_var + self.transitions[self.tag_to_ix[stopTag]]\n",
        "        _, idx = torch.max(terminal_var, 1)\n",
        "        best_tag_id = idx.item()\n",
        "        path_score = terminal_var[0][best_tag_id]\n",
        "        best_path = [best_tag_id]\n",
        "        for bptrs_t in reversed(backpointers):\n",
        "            best_tag_id = bptrs_t[best_tag_id]\n",
        "            best_path.append(best_tag_id)\n",
        "            \n",
        "        start = best_path.pop()\n",
        "        assert start == self.tag_to_ix[startTag]\n",
        "        best_path.reverse()\n",
        "        return path_score, best_path"
      ]
    },
    {
      "cell_type": "code",
      "execution_count": 36,
      "metadata": {},
      "outputs": [],
      "source": [
        "word2vec_state_dict = torch.load('t2_model4_word2vec.pt')"
      ]
    },
    {
      "cell_type": "code",
      "execution_count": 37,
      "metadata": {},
      "outputs": [],
      "source": [
        "glove_state_dict = torch.load('t2_model4_GloVe.pt')"
      ]
    },
    {
      "cell_type": "code",
      "execution_count": 38,
      "metadata": {},
      "outputs": [],
      "source": [
        "fasttext_state_dict = torch.load('t2_model4_fasttext.pt')"
      ]
    },
    {
      "cell_type": "code",
      "execution_count": 39,
      "metadata": {},
      "outputs": [],
      "source": [
        "word_to_idx_word2vec = {word: idx + 1 for idx, word in enumerate(word_vectors.index_to_key)}\n",
        "word_to_idx_glove = {word: idx + 1 for idx, word in enumerate(glove_vectors.index_to_key)}\n",
        "word_to_idx_fasttext = {word: idx + 1 for idx, word in enumerate(fasttext_vectors.index_to_key)}\n",
        "label_to_idx = {'B':0, 'I':1, 'O':2, '<START>':3, '<STOP>':4} \n",
        "HIDDEN_DIM = 8"
      ]
    },
    {
      "cell_type": "code",
      "execution_count": 40,
      "metadata": {},
      "outputs": [],
      "source": [
        "word2vec_model = BiLSTM_CRF(len(word_to_idx_word2vec), label_to_idx, word_vectors.vector_size, HIDDEN_DIM, torch.FloatTensor(word_vectors.vectors))\n",
        "glove_model = BiLSTM_CRF(len(word_to_idx_glove), label_to_idx, glove_vectors.vector_size, HIDDEN_DIM, torch.FloatTensor(glove_vectors.vectors))\n",
        "fasttext_model = BiLSTM_CRF(len(word_to_idx_fasttext), label_to_idx, fasttext_vectors.vector_size, 8, torch.FloatTensor(fasttext_vectors.vectors))  # HIDDEN_DIM = 8"
      ]
    },
    {
      "cell_type": "code",
      "execution_count": 41,
      "metadata": {},
      "outputs": [
        {
          "data": {
            "text/plain": [
              "<All keys matched successfully>"
            ]
          },
          "execution_count": 41,
          "metadata": {},
          "output_type": "execute_result"
        }
      ],
      "source": [
        "word2vec_model.load_state_dict(word2vec_state_dict)"
      ]
    },
    {
      "cell_type": "code",
      "execution_count": 42,
      "metadata": {},
      "outputs": [
        {
          "data": {
            "text/plain": [
              "<All keys matched successfully>"
            ]
          },
          "execution_count": 42,
          "metadata": {},
          "output_type": "execute_result"
        }
      ],
      "source": [
        "glove_model.load_state_dict(glove_state_dict)"
      ]
    },
    {
      "cell_type": "code",
      "execution_count": 43,
      "metadata": {
        "id": "n_unAJqcXooZ",
        "outputId": "e19bdd67-34d9-412f-b428-ebf2fcad6dfa"
      },
      "outputs": [
        {
          "data": {
            "text/plain": [
              "<All keys matched successfully>"
            ]
          },
          "execution_count": 43,
          "metadata": {},
          "output_type": "execute_result"
        }
      ],
      "source": [
        "fasttext_model.load_state_dict(fasttext_state_dict)"
      ]
    },
    {
      "cell_type": "code",
      "execution_count": 44,
      "metadata": {
        "id": "4wY5UhtEXooa"
      },
      "outputs": [],
      "source": [
        "def load_data(file_path):\n",
        "    with open(file_path, 'r') as file:\n",
        "        data = json.load(file)\n",
        "    \n",
        "    training_data = []\n",
        "    for key, value in data.items():\n",
        "        text = value[\"text\"]\n",
        "        labels = value[\"labels\"]\n",
        "        training_data.append((text, \" \".join(labels)))\n",
        "\n",
        "    data = []\n",
        "    for i in training_data:\n",
        "        data.append((i[0].split(), i[1].split()))\n",
        "    return data\n",
        "\n",
        "test_data = load_data('ATE_test.json')"
      ]
    },
    {
      "cell_type": "code",
      "execution_count": 45,
      "metadata": {},
      "outputs": [],
      "source": [
        "def prepare_sequence(seq, to_idx):\n",
        "    vocab_size = len(to_idx)\n",
        "    idxs = []\n",
        "    for w in seq:\n",
        "        if w in to_idx:\n",
        "            idxs.append(to_idx[w])\n",
        "        else:\n",
        "            idxs.append(random.randint(0, vocab_size - 1))\n",
        "    return torch.tensor(idxs, dtype=torch.long)\n",
        "\n",
        "def evaluate_model(model, test_data, word_to_idx, label_to_idx):\n",
        "    model.eval()\n",
        "    all_predictions = []\n",
        "    all_labels = []\n",
        "    with torch.no_grad():\n",
        "        for sentence, labels in test_data:\n",
        "            sentence_in = prepare_sequence(sentence, word_to_idx)\n",
        "            targets = [label_to_idx[t] for t in labels]  # Convert labels to numbers\n",
        "            predictions = model(sentence_in)\n",
        "            # Convert predictions from numbers to labels\n",
        "            predicted_labels = [list(label_to_idx.keys())[list(label_to_idx.values()).index(p)] for p in predictions[1]]\n",
        "            all_predictions.extend(predicted_labels)\n",
        "            all_labels.extend(labels)\n",
        "\n",
        "    macro_f1 = f1_score(all_labels, all_predictions, average='macro')\n",
        "    accuracy = accuracy_score(all_labels, all_predictions)\n",
        "    \n",
        "    return accuracy, macro_f1"
      ]
    },
    {
      "cell_type": "code",
      "execution_count": 46,
      "metadata": {
        "id": "DnimKcfPXooa",
        "outputId": "6e1fac7d-ca41-4eb6-f0ec-b2220a165c3c"
      },
      "outputs": [
        {
          "name": "stdout",
          "output_type": "stream",
          "text": [
            "T2 Model 4 Word2Vec Test Accuracy: 0.9007928833881261  Test F1 Score: 0.6461923148655623\n",
            "T2 Model 4 GloVe Test Accuracy: 0.8975053181202862  Test F1 Score: 0.6575802407713208\n",
            "T2 Model 4 Fasttext Test Accuracy: 0.8822278089344421  Test F1 Score: 0.5624527222363326\n"
          ]
        }
      ],
      "source": [
        "word2vec_accuracy, word2vec_f1 = evaluate_model(word2vec_model, test_data, word_to_idx_word2vec, label_to_idx)\n",
        "glove_accuracy, glove_f1 = evaluate_model(glove_model, test_data, word_to_idx_glove, label_to_idx)\n",
        "fasttext_accuracy, fasttext_f1 = evaluate_model(fasttext_model, test_data, word_to_idx_fasttext, label_to_idx)\n",
        "\n",
        "# Print the results\n",
        "print(\"T2 Model 4 Word2Vec Test Accuracy:\", word2vec_accuracy, \" Test F1 Score:\", word2vec_f1)\n",
        "print(\"T2 Model 4 GloVe Test Accuracy:\", glove_accuracy, \" Test F1 Score:\", glove_f1)\n",
        "print(\"T2 Model 4 Fasttext Test Accuracy:\", fasttext_accuracy, \" Test F1 Score:\", fasttext_f1)"
      ]
    },
    {
      "cell_type": "code",
      "execution_count": null,
      "metadata": {},
      "outputs": [],
      "source": []
    }
  ],
  "metadata": {
    "colab": {
      "provenance": []
    },
    "kernelspec": {
      "display_name": "Python 3",
      "language": "python",
      "name": "python3"
    },
    "language_info": {
      "codemirror_mode": {
        "name": "ipython",
        "version": 3
      },
      "file_extension": ".py",
      "mimetype": "text/x-python",
      "name": "python",
      "nbconvert_exporter": "python",
      "pygments_lexer": "ipython3",
      "version": "3.11.8"
    }
  },
  "nbformat": 4,
  "nbformat_minor": 0
}
