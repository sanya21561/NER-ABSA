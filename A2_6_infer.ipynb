{
 "cells": [
  {
   "cell_type": "markdown",
   "metadata": {},
   "source": [
    "# Part 2 outputs on dataset 2"
   ]
  },
  {
   "cell_type": "code",
   "execution_count": 1,
   "metadata": {},
   "outputs": [],
   "source": [
    "import torch\n",
    "from sklearn.metrics import accuracy_score, f1_score\n",
    "import json\n",
    "import torch\n",
    "import torch.nn as nn\n",
    "import torch.optim as optim\n",
    "from torch.utils.data import Dataset, DataLoader\n",
    "from sklearn.metrics import f1_score\n",
    "import gensim.downloader as api\n",
    "import matplotlib.pyplot as plt\n",
    "from torch.nn.utils.rnn import pad_sequence\n",
    "from torch.utils.data import DataLoader, TensorDataset\n",
    "import numpy as np"
   ]
  },
  {
   "cell_type": "code",
   "execution_count": 2,
   "metadata": {},
   "outputs": [],
   "source": [
    "# Load pre-trained word embeddings\n",
    "word_vectors = api.load(\"word2vec-google-news-300\")\n",
    "glove_vectors = api.load(\"glove-wiki-gigaword-300\")\n",
    "fasttext_vectors = api.load(\"fasttext-wiki-news-subwords-300\")"
   ]
  },
  {
   "cell_type": "code",
   "execution_count": 3,
   "metadata": {},
   "outputs": [],
   "source": [
    "class RNNModel(nn.Module):\n",
    "    def __init__(self, embedding_dim, hidden_dim, tagset_size, word_embeddings):\n",
    "        super(RNNModel, self).__init__()\n",
    "        self.embedding = nn.Embedding.from_pretrained(word_embeddings, freeze=True)\n",
    "        self.rnn = nn.RNN(embedding_dim, hidden_dim, batch_first=True)\n",
    "        self.linear = nn.Linear(hidden_dim, tagset_size)\n",
    "\n",
    "    def forward(self, sentence):\n",
    "        embeds = self.embedding(sentence)\n",
    "        rnn_out, _ = self.rnn(embeds)\n",
    "        tag_space = self.linear(rnn_out)\n",
    "        return tag_space\n",
    "    \n",
    "class LSTMModel(nn.Module):\n",
    "    def __init__(self, embedding_dim, hidden_dim, tagset_size, word_embeddings):\n",
    "        super(LSTMModel, self).__init__()\n",
    "        self.embedding = nn.Embedding.from_pretrained(word_embeddings, freeze=True)\n",
    "        self.lstm = nn.LSTM(embedding_dim, hidden_dim, batch_first=True)\n",
    "        self.linear = nn.Linear(hidden_dim, tagset_size)\n",
    "\n",
    "    def forward(self, sentence):\n",
    "        embeds = self.embedding(sentence)\n",
    "        lstm_out, _ = self.lstm(embeds)\n",
    "        tag_space = self.linear(lstm_out)\n",
    "        return tag_space\n",
    "    \n",
    "class GRUModel(nn.Module):\n",
    "    def __init__(self, embedding_dim, hidden_dim, tagset_size, word_embeddings):\n",
    "        super(GRUModel, self).__init__()\n",
    "        self.embedding = nn.Embedding.from_pretrained(word_embeddings, freeze=True)\n",
    "        self.gru = nn.GRU(embedding_dim, hidden_dim, batch_first=True)\n",
    "        self.linear = nn.Linear(hidden_dim, tagset_size)\n",
    "\n",
    "    def forward(self, sentence):\n",
    "        embeds = self.embedding(sentence)\n",
    "        gru_out, _ = self.gru(embeds)\n",
    "        tag_space = self.linear(gru_out)\n",
    "        return tag_space"
   ]
  },
  {
   "cell_type": "code",
   "execution_count": 4,
   "metadata": {},
   "outputs": [],
   "source": [
    "t2_word2vec_state_dict = torch.load('Dataset2_SavedModels_and_plots/t2_model1_word2vec.pt')\n",
    "t2_glove_state_dict = torch.load('Dataset2_SavedModels_and_plots/t2_model1_GloVe.pt')\n",
    "t2_fasttext_state_dict = torch.load('Dataset2_SavedModels_and_plots/t2_model1_fasttext.pt')\n",
    "\n",
    "t2_word2vec_state_dict2 = torch.load('Dataset2_SavedModels_and_plots/t2_model2_word2vec.pt')\n",
    "t2_glove_state_dict2 = torch.load('Dataset2_SavedModels_and_plots/t2_model2_GloVe.pt')\n",
    "t2_fasttext_state_dict2 = torch.load('Dataset2_SavedModels_and_plots/t2_model2_fasttext.pt')\n",
    "\n",
    "t2_word2vec_state_dict3 = torch.load('Dataset2_SavedModels_and_plots/t2_model3_word2vec.pt')\n",
    "t2_glove_state_dict3 = torch.load('Dataset2_SavedModels_and_plots/t2_model3_GloVe.pt')\n",
    "t2_fasttext_state_dict3 = torch.load('Dataset2_SavedModels_and_plots/t2_model3_fasttext.pt')"
   ]
  },
  {
   "cell_type": "code",
   "execution_count": 5,
   "metadata": {},
   "outputs": [],
   "source": [
    "t2_word2vec_model = RNNModel(word_vectors.vector_size, 128, 3, torch.FloatTensor(word_vectors.vectors))\n",
    "t2_glove_model = RNNModel(glove_vectors.vector_size, 128, 3, torch.FloatTensor(glove_vectors.vectors))\n",
    "t2_fasttext_model = RNNModel(fasttext_vectors.vector_size, 128, 3, torch.FloatTensor(fasttext_vectors.vectors))\n",
    "\n",
    "t2_word2vec_model2 = LSTMModel(word_vectors.vector_size, 128, 3, torch.FloatTensor(word_vectors.vectors))\n",
    "t2_glove_model2 = LSTMModel(glove_vectors.vector_size, 128, 3, torch.FloatTensor(glove_vectors.vectors))\n",
    "t2_fasttext_model2 = LSTMModel(fasttext_vectors.vector_size, 128, 3, torch.FloatTensor(fasttext_vectors.vectors))\n",
    "\n",
    "t2_word2vec_model3 = GRUModel(word_vectors.vector_size, 128, 3, torch.FloatTensor(word_vectors.vectors))\n",
    "t2_glove_model3 = GRUModel(glove_vectors.vector_size, 128, 3, torch.FloatTensor(glove_vectors.vectors))\n",
    "t2_fasttext_model3 = GRUModel(fasttext_vectors.vector_size, 128, 3, torch.FloatTensor(fasttext_vectors.vectors))"
   ]
  },
  {
   "cell_type": "code",
   "execution_count": 6,
   "metadata": {},
   "outputs": [
    {
     "data": {
      "text/plain": [
       "<All keys matched successfully>"
      ]
     },
     "execution_count": 6,
     "metadata": {},
     "output_type": "execute_result"
    }
   ],
   "source": [
    "t2_word2vec_model.load_state_dict(t2_word2vec_state_dict)\n",
    "t2_glove_model.load_state_dict(t2_glove_state_dict)\n",
    "t2_fasttext_model.load_state_dict(t2_fasttext_state_dict)\n",
    "\n",
    "t2_word2vec_model2.load_state_dict(t2_word2vec_state_dict2)\n",
    "t2_glove_model2.load_state_dict(t2_glove_state_dict2)\n",
    "t2_fasttext_model2.load_state_dict(t2_fasttext_state_dict2)\n",
    "\n",
    "t2_word2vec_model3.load_state_dict(t2_word2vec_state_dict3)\n",
    "t2_glove_model3.load_state_dict(t2_glove_state_dict3)\n",
    "t2_fasttext_model3.load_state_dict(t2_fasttext_state_dict3)"
   ]
  },
  {
   "cell_type": "code",
   "execution_count": 7,
   "metadata": {},
   "outputs": [],
   "source": [
    "import torch\n",
    "from torch.utils.data import TensorDataset, DataLoader\n",
    "from torch.nn.utils.rnn import pad_sequence\n",
    "from sklearn.metrics import accuracy_score, f1_score\n",
    "import json\n",
    "\n",
    "def t2_load_dataset(file_path):\n",
    "    with open(file_path, 'r') as file:\n",
    "        data = json.load(file)\n",
    "    return data\n",
    "\n",
    "def t2_prepare_data(data, word_to_idx, label_to_idx):\n",
    "    X, y = [], []\n",
    "    for sample in data.values():\n",
    "        text = sample['text'].split()\n",
    "        labels = sample['labels']\n",
    "        text_indices = [word_to_idx.get(word, 0) for word in text]\n",
    "        X.append(torch.tensor(text_indices))\n",
    "        y.append(torch.tensor([label_to_idx.get(label, -1) for label in labels if label in label_to_idx]))\n",
    "    X_padded = pad_sequence(X, batch_first=True, padding_value=0)\n",
    "    y_padded = pad_sequence(y, batch_first=True, padding_value=0)\n",
    "    return X_padded, y_padded\n",
    "\n",
    "test_data = t2_load_dataset('ATE_test.json')\n",
    "\n",
    "word_to_idx_word2vec = {word: idx + 1 for idx, word in enumerate(word_vectors.index_to_key)}\n",
    "word_to_idx_glove = {word: idx + 1 for idx, word in enumerate(glove_vectors.index_to_key)}\n",
    "word_to_idx_fasttext = {word: idx + 1 for idx, word in enumerate(fasttext_vectors.index_to_key)}\n",
    "label_to_idx = label_to_ix = {'B':0, 'I':1, 'O':2}"
   ]
  },
  {
   "cell_type": "code",
   "execution_count": 8,
   "metadata": {},
   "outputs": [
    {
     "name": "stdout",
     "output_type": "stream",
     "text": [
      "T2 Model 1 Word2Vec Test Accuracy: 0.9636293369975953  Test F1 Score: 0.6418273258905921\n",
      "T2 Model 1 GloVe Test Accuracy: 0.9705427688079697  Test F1 Score: 0.7345606849465055\n",
      "T2 Model 1 Fasttext Test Accuracy: 0.9688680865681897  Test F1 Score: 0.642376971497277\n",
      "T2 Model 2 Word2Vec Test Accuracy: 0.9644881484026108  Test F1 Score: 0.6326217148585592\n",
      "T2 Model 2 GloVe Test Accuracy: 0.9692545517004466  Test F1 Score: 0.643781609162235\n",
      "T2 Model 2 Fasttext Test Accuracy: 0.968610443146685  Test F1 Score: 0.6368809473533991\n",
      "T2 Model 3 Word2Vec Test Accuracy: 0.965218138096874  Test F1 Score: 0.6331449380684212\n",
      "T2 Model 3 GloVe Test Accuracy: 0.9709721745104775  Test F1 Score: 0.7176116417133045\n",
      "T2 Model 3 Fasttext Test Accuracy: 0.9688680865681897  Test F1 Score: 0.6371674868854306\n"
     ]
    }
   ],
   "source": [
    "def t2_part2_evaluate_model(model, dataloader, tagset_size):\n",
    "    model.eval()\n",
    "    total_loss = 0\n",
    "    all_preds = []\n",
    "    all_labels = []\n",
    "\n",
    "    criterion = nn.CrossEntropyLoss()\n",
    "\n",
    "    with torch.no_grad():\n",
    "        for text, labels in dataloader:\n",
    "            outputs = model(text)\n",
    "            loss = criterion(outputs.view(-1, tagset_size), labels.view(-1))\n",
    "            total_loss += loss.item()\n",
    "\n",
    "            _, predicted = torch.max(outputs, 2)\n",
    "            all_preds.extend(predicted.view(-1).cpu().numpy().tolist())\n",
    "            all_labels.extend(labels.view(-1).cpu().numpy().tolist())\n",
    "    macro_f1 = f1_score(all_labels, all_preds, average='macro')\n",
    "    accuracy = accuracy_score(all_labels, all_preds)\n",
    "\n",
    "    return accuracy, macro_f1\n",
    "\n",
    "X_test_word2vec, y_test_word2vec = t2_prepare_data(test_data, word_to_idx_word2vec, label_to_idx)\n",
    "test_dataset_word2vec = TensorDataset(X_test_word2vec, y_test_word2vec)\n",
    "test_loader_word2vec = DataLoader(test_dataset_word2vec, batch_size=32, shuffle=True)\n",
    "\n",
    "word2vec_accuracy, word2vec_f1 = t2_part2_evaluate_model(t2_word2vec_model, test_loader_word2vec, 3)\n",
    "word2vec_accuracy2, word2vec_f12 = t2_part2_evaluate_model(t2_word2vec_model2, test_loader_word2vec, 3)\n",
    "word2vec_accuracy3, word2vec_f13 = t2_part2_evaluate_model(t2_word2vec_model3, test_loader_word2vec, 3)\n",
    "\n",
    "\n",
    "X_test_glove, y_test_glove = t2_prepare_data(test_data, word_to_idx_glove, label_to_idx)\n",
    "test_dataset_glove = TensorDataset(X_test_glove, y_test_glove)\n",
    "test_loader_glove = DataLoader(test_dataset_glove, batch_size=32, shuffle=True)\n",
    "\n",
    "glove_accuracy, glove_f1 = t2_part2_evaluate_model(t2_glove_model, test_loader_glove, 3)\n",
    "glove_accuracy2, glove_f12 = t2_part2_evaluate_model(t2_glove_model2, test_loader_glove, 3)\n",
    "glove_accuracy3, glove_f13 = t2_part2_evaluate_model(t2_glove_model3, test_loader_glove, 3)\n",
    "\n",
    "\n",
    "X_test_fasttext, y_test_fasttext = t2_prepare_data(test_data, word_to_idx_fasttext, label_to_idx)\n",
    "test_dataset_fasttext = TensorDataset(X_test_fasttext, y_test_fasttext)\n",
    "test_loader_fasttext = DataLoader(test_dataset_fasttext, batch_size=32, shuffle=True)\n",
    "\n",
    "fasttext_accuracy, fasttext_f1 = t2_part2_evaluate_model(t2_fasttext_model, test_loader_fasttext, 3)\n",
    "fasttext_accuracy2, fasttext_f12 = t2_part2_evaluate_model(t2_fasttext_model2, test_loader_fasttext, 3)\n",
    "fasttext_accuracy3, fasttext_f13 = t2_part2_evaluate_model(t2_fasttext_model3, test_loader_fasttext, 3)\n",
    "\n",
    "# Print the results\n",
    "print(\"T2 Model 1 Word2Vec Test Accuracy:\", word2vec_accuracy, \" Test F1 Score:\", word2vec_f1)\n",
    "print(\"T2 Model 1 GloVe Test Accuracy:\", glove_accuracy, \" Test F1 Score:\", glove_f1)\n",
    "print(\"T2 Model 1 Fasttext Test Accuracy:\", fasttext_accuracy, \" Test F1 Score:\", fasttext_f1)\n",
    "print(\"T2 Model 2 Word2Vec Test Accuracy:\", word2vec_accuracy2, \" Test F1 Score:\", word2vec_f12)\n",
    "print(\"T2 Model 2 GloVe Test Accuracy:\", glove_accuracy2, \" Test F1 Score:\", glove_f12)\n",
    "print(\"T2 Model 2 Fasttext Test Accuracy:\", fasttext_accuracy2, \" Test F1 Score:\", fasttext_f12)\n",
    "print(\"T2 Model 3 Word2Vec Test Accuracy:\", word2vec_accuracy3, \" Test F1 Score:\", word2vec_f13)\n",
    "print(\"T2 Model 3 GloVe Test Accuracy:\", glove_accuracy3, \" Test F1 Score:\", glove_f13)\n",
    "print(\"T2 Model 3 Fasttext Test Accuracy:\", fasttext_accuracy3, \" Test F1 Score:\", fasttext_f13)"
   ]
  },
  {
   "cell_type": "markdown",
   "metadata": {},
   "source": [
    "## BILSTM-CRF outputs on dataset 2"
   ]
  },
  {
   "cell_type": "code",
   "execution_count": 9,
   "metadata": {},
   "outputs": [],
   "source": [
    "startTag = \"<START>\"\n",
    "stopTag = \"<STOP>\"\n",
    "\n",
    "def log_sum_exp(vec):\n",
    "    _, idx = torch.max(vec, 1)\n",
    "    max_score = vec[0, idx.item()]\n",
    "    max_score_broadcast = max_score.view(1, -1).expand(1, vec.size()[1])\n",
    "    return max_score + \\\n",
    "        torch.log(torch.sum(torch.exp(vec - max_score_broadcast)))\n",
    "\n",
    "class BiLSTM_CRF(nn.Module):\n",
    "    def __init__(self, vocab_size, tag_to_ix, embedding_dim, hidden_dim, word_embeddings):\n",
    "        super(BiLSTM_CRF, self).__init__()\n",
    "        self.embedding_dim = embedding_dim\n",
    "        self.hidden_dim = hidden_dim\n",
    "        self.vocab_size = vocab_size\n",
    "        self.tag_to_ix = tag_to_ix\n",
    "        self.tagset_size = len(tag_to_ix)\n",
    "        self.word_embeds = nn.Embedding.from_pretrained(word_embeddings, freeze=True)\n",
    "        self.lstm = nn.LSTM(embedding_dim, hidden_dim // 2, num_layers=1, bidirectional=True)\n",
    "        self.hidden2tag = nn.Linear(hidden_dim, self.tagset_size)\n",
    "        self.transitions = nn.Parameter(torch.randn(self.tagset_size, self.tagset_size))\n",
    "        self.transitions.data[tag_to_ix[startTag], :] = -10000\n",
    "        self.transitions.data[:, tag_to_ix[stopTag]] = -10000\n",
    "        self.hidden = (torch.randn(2, 1, self.hidden_dim // 2), torch.randn(2, 1, self.hidden_dim // 2))\n",
    "\n",
    "    def _forward_alg(self, feats):\n",
    "        init_alphas = torch.full((1, self.tagset_size), -10000.)\n",
    "        init_alphas[0][self.tag_to_ix[startTag]] = 0.\n",
    "        forward_var = init_alphas\n",
    "        for feat in feats:\n",
    "            alphas_t = []\n",
    "            for next_tag in range(self.tagset_size):\n",
    "                emit_score = feat[next_tag].view(\n",
    "                    1, -1).expand(1, self.tagset_size)\n",
    "                trans_score = self.transitions[next_tag].view(1, -1)\n",
    "                next_tag_var = forward_var + trans_score + emit_score\n",
    "                alphas_t.append(log_sum_exp(next_tag_var).view(1))\n",
    "            forward_var = torch.cat(alphas_t).view(1, -1)\n",
    "        terminal_var = forward_var + self.transitions[self.tag_to_ix[stopTag]]\n",
    "        alpha = log_sum_exp(terminal_var)\n",
    "        return alpha\n",
    "\n",
    "    def get_features(self, sentence):\n",
    "        self.hidden = (torch.randn(2, 1, self.hidden_dim // 2), torch.randn(2, 1, self.hidden_dim // 2))\n",
    "        embeds = self.word_embeds(sentence).view(len(sentence), 1, -1)\n",
    "        lstm_out, self.hidden = self.lstm(embeds, self.hidden)\n",
    "        lstm_out = lstm_out.view(len(sentence), self.hidden_dim)\n",
    "        lstm_feats = self.hidden2tag(lstm_out)\n",
    "        return lstm_feats\n",
    "\n",
    "    def sentence_score(self, feats, tags):\n",
    "        score = torch.zeros(1)\n",
    "        tags = torch.cat([torch.tensor([self.tag_to_ix[startTag]], dtype=torch.long), tags])\n",
    "        for i, feat in enumerate(feats):\n",
    "            score = score + \\\n",
    "                self.transitions[tags[i + 1], tags[i]] + feat[tags[i + 1]]\n",
    "        score = score + self.transitions[self.tag_to_ix[stopTag], tags[-1]]\n",
    "        return score\n",
    "\n",
    "    def neg_log_likelihood(self, sentence, tags):\n",
    "        feats = self.get_features(sentence)\n",
    "        forward_score = self._forward_alg(feats)\n",
    "        gold_score = self.sentence_score(feats, tags)\n",
    "        return forward_score - gold_score\n",
    "\n",
    "    def forward(self, sentence):  \n",
    "        feats = self.get_features(sentence)\n",
    "        backpointers = []\n",
    "        init_vvars = torch.full((1, self.tagset_size), -10000.)\n",
    "        init_vvars[0][self.tag_to_ix[startTag]] = 0\n",
    "\n",
    "        forward_var = init_vvars\n",
    "        for feat in feats:\n",
    "            bptrs_t = []\n",
    "            viterbivars_t = []\n",
    "            for next_tag in range(self.tagset_size):\n",
    "                next_tag_var = forward_var + self.transitions[next_tag]\n",
    "                _, idx = torch.max(next_tag_var, 1)\n",
    "                best_tag_id = idx.item()\n",
    "                bptrs_t.append(best_tag_id)\n",
    "                viterbivars_t.append(next_tag_var[0][best_tag_id].view(1))\n",
    "            forward_var = (torch.cat(viterbivars_t) + feat).view(1, -1)\n",
    "            backpointers.append(bptrs_t)\n",
    "        \n",
    "        terminal_var = forward_var + self.transitions[self.tag_to_ix[stopTag]]\n",
    "        _, idx = torch.max(terminal_var, 1)\n",
    "        best_tag_id = idx.item()\n",
    "        path_score = terminal_var[0][best_tag_id]\n",
    "        best_path = [best_tag_id]\n",
    "        for bptrs_t in reversed(backpointers):\n",
    "            best_tag_id = bptrs_t[best_tag_id]\n",
    "            best_path.append(best_tag_id)\n",
    "            \n",
    "        start = best_path.pop()\n",
    "        assert start == self.tag_to_ix[startTag]\n",
    "        best_path.reverse()\n",
    "        return path_score, best_path"
   ]
  },
  {
   "cell_type": "code",
   "execution_count": 10,
   "metadata": {},
   "outputs": [],
   "source": [
    "word2vec_state_dict = torch.load('Dataset2_SavedModels_and_plots/t2_model4_word2vec.pt')\n",
    "glove_state_dict = torch.load('Dataset2_SavedModels_and_plots/t2_model4_GloVe.pt')\n",
    "fasttext_state_dict = torch.load('Dataset2_SavedModels_and_plots/t2_model4_fasttext.pt')"
   ]
  },
  {
   "cell_type": "code",
   "execution_count": 11,
   "metadata": {},
   "outputs": [],
   "source": [
    "word_to_idx_word2vec = {word: idx + 1 for idx, word in enumerate(word_vectors.index_to_key)}\n",
    "word_to_idx_glove = {word: idx + 1 for idx, word in enumerate(glove_vectors.index_to_key)}\n",
    "word_to_idx_fasttext = {word: idx + 1 for idx, word in enumerate(fasttext_vectors.index_to_key)}\n",
    "label_to_idx = {'B':0, 'I':1, 'O':2, '<START>':3, '<STOP>':4} \n",
    "HIDDEN_DIM = 8"
   ]
  },
  {
   "cell_type": "code",
   "execution_count": 12,
   "metadata": {},
   "outputs": [],
   "source": [
    "word2vec_model = BiLSTM_CRF(len(word_to_idx_word2vec), label_to_idx, word_vectors.vector_size, HIDDEN_DIM, torch.FloatTensor(word_vectors.vectors))\n",
    "glove_model = BiLSTM_CRF(len(word_to_idx_glove), label_to_idx, glove_vectors.vector_size, HIDDEN_DIM, torch.FloatTensor(glove_vectors.vectors))\n",
    "fasttext_model = BiLSTM_CRF(len(word_to_idx_fasttext), label_to_idx, fasttext_vectors.vector_size, 8, torch.FloatTensor(fasttext_vectors.vectors))  # HIDDEN_DIM = 8"
   ]
  },
  {
   "cell_type": "code",
   "execution_count": 13,
   "metadata": {},
   "outputs": [
    {
     "data": {
      "text/plain": [
       "<All keys matched successfully>"
      ]
     },
     "execution_count": 13,
     "metadata": {},
     "output_type": "execute_result"
    }
   ],
   "source": [
    "word2vec_model.load_state_dict(word2vec_state_dict)\n",
    "glove_model.load_state_dict(glove_state_dict)\n",
    "fasttext_model.load_state_dict(fasttext_state_dict)"
   ]
  },
  {
   "cell_type": "code",
   "execution_count": 14,
   "metadata": {},
   "outputs": [],
   "source": [
    "def load_data(file_path):\n",
    "    with open(file_path, 'r') as file:\n",
    "        data = json.load(file)\n",
    "    \n",
    "    training_data = []\n",
    "    for key, value in data.items():\n",
    "        text = value[\"text\"]\n",
    "        labels = value[\"labels\"]\n",
    "        training_data.append((text, \" \".join(labels)))\n",
    "\n",
    "    data = []\n",
    "    for i in training_data:\n",
    "        data.append((i[0].split(), i[1].split()))\n",
    "    return data\n",
    "\n",
    "test_data = load_data('ATE_test.json')"
   ]
  },
  {
   "cell_type": "code",
   "execution_count": 15,
   "metadata": {},
   "outputs": [],
   "source": [
    "import random\n",
    "\n",
    "def prepare_sequence(seq, to_idx):\n",
    "    vocab_size = len(to_idx)\n",
    "    idxs = []\n",
    "    for w in seq:\n",
    "        if w in to_idx:\n",
    "            idxs.append(to_idx[w])\n",
    "        else:\n",
    "            idxs.append(random.randint(0, vocab_size - 1))\n",
    "    return torch.tensor(idxs, dtype=torch.long)\n",
    "\n",
    "def evaluate_model(model, test_data, word_to_idx, label_to_idx):\n",
    "    model.eval()\n",
    "    all_predictions = []\n",
    "    all_labels = []\n",
    "    with torch.no_grad():\n",
    "        for sentence, labels in test_data:\n",
    "            sentence_in = prepare_sequence(sentence, word_to_idx)\n",
    "            targets = [label_to_idx[t] for t in labels]  # Convert labels to numbers\n",
    "            predictions = model(sentence_in)\n",
    "            # Convert predictions from numbers to labels\n",
    "            predicted_labels = [list(label_to_idx.keys())[list(label_to_idx.values()).index(p)] for p in predictions[1]]\n",
    "            all_predictions.extend(predicted_labels)\n",
    "            all_labels.extend(labels)\n",
    "\n",
    "    macro_f1 = f1_score(all_labels, all_predictions, average='macro')\n",
    "    accuracy = accuracy_score(all_labels, all_predictions)\n",
    "    \n",
    "    return accuracy, macro_f1"
   ]
  },
  {
   "cell_type": "code",
   "execution_count": 16,
   "metadata": {},
   "outputs": [
    {
     "name": "stdout",
     "output_type": "stream",
     "text": [
      "T2 Model 4 Word2Vec Test Accuracy: 0.8973119319280604  Test F1 Score: 0.6320129300506312\n",
      "T2 Model 4 GloVe Test Accuracy: 0.8982788628891897  Test F1 Score: 0.6600743689271714\n",
      "T2 Model 4 Fasttext Test Accuracy: 0.8816476503577645  Test F1 Score: 0.5668232336832163\n"
     ]
    }
   ],
   "source": [
    "word2vec_accuracy, word2vec_f1 = evaluate_model(word2vec_model, test_data, word_to_idx_word2vec, label_to_idx)\n",
    "glove_accuracy, glove_f1 = evaluate_model(glove_model, test_data, word_to_idx_glove, label_to_idx)\n",
    "fasttext_accuracy, fasttext_f1 = evaluate_model(fasttext_model, test_data, word_to_idx_fasttext, label_to_idx)\n",
    "\n",
    "# Print the results\n",
    "print(\"T2 Model 4 Word2Vec Test Accuracy:\", word2vec_accuracy, \" Test F1 Score:\", word2vec_f1)\n",
    "print(\"T2 Model 4 GloVe Test Accuracy:\", glove_accuracy, \" Test F1 Score:\", glove_f1)\n",
    "print(\"T2 Model 4 Fasttext Test Accuracy:\", fasttext_accuracy, \" Test F1 Score:\", fasttext_f1)"
   ]
  },
  {
   "cell_type": "markdown",
   "metadata": {},
   "source": [
    "## BILSTM-CRF on dataset 1"
   ]
  },
  {
   "cell_type": "code",
   "execution_count": 17,
   "metadata": {},
   "outputs": [],
   "source": [
    "# Define the BiLSTM-CRF model\n",
    "class t1_BiLSTMCRFTagger(nn.Module):\n",
    "    def __init__(self, embedding_dim, hidden_dim, vocab_size, tagset_size, word_embeddings):\n",
    "        super(t1_BiLSTMCRFTagger, self).__init__()\n",
    "        self.embedding = nn.Embedding.from_pretrained(word_embeddings, freeze=True)\n",
    "        self.lstm = nn.LSTM(embedding_dim, hidden_dim, batch_first=True, bidirectional=True)\n",
    "        self.hidden2tag = nn.Linear(hidden_dim * 2, tagset_size)\n",
    "        self.crf = t1_CRF(tagset_size)\n",
    "    \n",
    "    def forward(self, sentence):\n",
    "        embeds = self.embedding(sentence)\n",
    "        lstm_out, _ = self.lstm(embeds)\n",
    "        tag_space = self.hidden2tag(lstm_out)\n",
    "        return tag_space\n",
    "\n",
    "# Define the dataset\n",
    "class t1_ReviewDataset(Dataset):\n",
    "    def __init__(self, data_path, word_vectors, max_seq_length):\n",
    "        self.data_path = data_path\n",
    "        self.word_vectors = word_vectors\n",
    "        self.max_seq_length = max_seq_length\n",
    "        self.data = self.load_data()\n",
    "        self.word_to_idx, self.label_to_idx = self.prepare_vocab()\n",
    "        self.X, self.y = self.prepare_data()\n",
    "\n",
    "    def load_data(self):\n",
    "        with open(self.data_path, 'r') as f:\n",
    "            data = json.load(f)\n",
    "        if isinstance(data, list):\n",
    "            data = {str(idx): sample for idx, sample in enumerate(data)}\n",
    "        return data\n",
    "\n",
    "    def prepare_vocab(self):\n",
    "        word_to_idx = {word: idx + 1 for idx, word in enumerate(self.word_vectors.index_to_key)}\n",
    "        label_to_idx = {\"O\": 1, \"B_RESPONDENT\": 2, \"I_RESPONDENT\": 3, \"B_DATE\": 4, \"I_DATE\":5, \"B_GPE\": 6, \"I_GPE\": 7, \"B_PROVISION\": 8, \n",
    "                        \"I_PROVISION\": 9, \"B_STATUTE\": 10, \"I_STATUTE\": 11, \"B_ORG\": 12, \"B_CASE_NUMBER\": 13, \"I_CASE_NUMBER\": 14, \n",
    "                        \"B_OTHER_PERSON\": 15, \"I_OTHER_PERSON\": 16, \"B_WITNESS\": 17, \"I_WITNESS\": 18, \"I_ORG\": 19, \"B_JUDGE\": 20, \"I_JUDGE\": 21, \n",
    "                        \"B_PETITIONER\": 22, \"I_PETITIONER\": 23, \"B_COURT\": 24, \"I_COURT\": 25, \"B_PRECEDENT\": 27, \"I_PRECEDENT\": 0}\n",
    "        return word_to_idx, label_to_idx\n",
    "\n",
    "    def prepare_data(self):\n",
    "        X, y = [], []\n",
    "        max_text_length = 0\n",
    "        max_label_length = 0\n",
    "\n",
    "        for sample_id, sample_data in self.data.items():\n",
    "            text = sample_data['text'].split()\n",
    "            labels = sample_data['labels']\n",
    "\n",
    "            text_indices = [self.word_to_idx.get(word, 0) for word in text]\n",
    "            label_indices = [self.label_to_idx[label] for label in labels]\n",
    "\n",
    "            X.append(torch.tensor(text_indices))\n",
    "            y.append(torch.tensor(label_indices))\n",
    "\n",
    "            max_text_length = max(max_text_length, len(text_indices))\n",
    "            max_label_length = max(max_label_length, len(label_indices))\n",
    "\n",
    "        # Pad both X and y to the maximum length\n",
    "        X_padded = pad_sequence(X, batch_first=True, padding_value=0)\n",
    "        y_padded = pad_sequence(y, batch_first=True, padding_value=0)\n",
    "\n",
    "        # Truncate to max_seq_length if necessary\n",
    "        X_padded = X_padded[:, :self.max_seq_length]\n",
    "        y_padded = y_padded[:, :self.max_seq_length]\n",
    "\n",
    "        # Pad or truncate X and y to the same length\n",
    "        if X_padded.size(1) > y_padded.size(1):\n",
    "            y_padded = torch.nn.functional.pad(y_padded, (0, X_padded.size(1) - y_padded.size(1)), value=0)\n",
    "        elif y_padded.size(1) > X_padded.size(1):\n",
    "            X_padded = torch.nn.functional.pad(X_padded, (0, y_padded.size(1) - X_padded.size(1)), value=0)\n",
    "\n",
    "        print(\"X_padded\", X_padded.shape)\n",
    "        print(\"Y_padded\", y_padded.shape)\n",
    "        return X_padded, y_padded\n",
    "\n",
    "    def __len__(self):\n",
    "        return len(self.data)\n",
    "\n",
    "    def __getitem__(self, idx):\n",
    "        return self.X[idx], self.y[idx]\n",
    "\n",
    "# Define the CRF layer\n",
    "class t1_CRF(nn.Module):\n",
    "    def __init__(self, num_tags):\n",
    "        super(t1_CRF, self).__init__()\n",
    "        self.num_tags = num_tags\n",
    "        self.transitions = nn.Parameter(torch.randn(num_tags, num_tags))\n",
    "\n",
    "    def forward(self, feats):\n",
    "        return feats"
   ]
  },
  {
   "cell_type": "code",
   "execution_count": 18,
   "metadata": {},
   "outputs": [
    {
     "name": "stdout",
     "output_type": "stream",
     "text": [
      "X_padded torch.Size([949, 100])\n",
      "Y_padded torch.Size([949, 100])\n",
      "X_padded torch.Size([949, 100])\n",
      "Y_padded torch.Size([949, 100])\n",
      "X_padded torch.Size([949, 100])\n",
      "Y_padded torch.Size([949, 100])\n"
     ]
    }
   ],
   "source": [
    "# Define hyperparameters\n",
    "max_seq_length = 100\n",
    "hidden_dim_word2vec = 125\n",
    "hidden_dim_glove = 256\n",
    "hidden_dim_fasttext = 125\n",
    "tagset_size = 28\n",
    "\n",
    "# Create data loaders\n",
    "test_dataset_word2vec = t1_ReviewDataset('NER_test.json', word_vectors, max_seq_length)\n",
    "test_loader_word2vec = DataLoader(test_dataset_word2vec, batch_size=32, drop_last=True)\n",
    "test_dataset_glove = t1_ReviewDataset('NER_test.json', glove_vectors, max_seq_length)\n",
    "test_loader_glove = DataLoader(test_dataset_glove, batch_size=32, drop_last=True)\n",
    "test_dataset_fasttext = t1_ReviewDataset('NER_test.json', fasttext_vectors, max_seq_length)\n",
    "test_loader_fasttext = DataLoader(test_dataset_fasttext, batch_size=32, drop_last=True)"
   ]
  },
  {
   "cell_type": "code",
   "execution_count": 19,
   "metadata": {},
   "outputs": [],
   "source": [
    "word2vec_state_dict = torch.load('Dataset1_BILSTM-CRF/t1_model4_word2vec.pt')\n",
    "glove_state_dict = torch.load('Dataset1_BILSTM-CRF/t1_model4_GloVe.pt')\n",
    "fasttext_state_dict = torch.load('Dataset1_BILSTM-CRF/t1_model4_fasttext.pt')"
   ]
  },
  {
   "cell_type": "code",
   "execution_count": 20,
   "metadata": {},
   "outputs": [],
   "source": [
    "vocab_size_word2vec = len(word_vectors.index_to_key)\n",
    "vocab_size_glove = len(glove_vectors.index_to_key)\n",
    "vocab_size_fasttext = len(fasttext_vectors.index_to_key)"
   ]
  },
  {
   "cell_type": "code",
   "execution_count": 21,
   "metadata": {},
   "outputs": [],
   "source": [
    "word2vec_model = t1_BiLSTMCRFTagger(word_vectors.vector_size, hidden_dim_word2vec, vocab_size_word2vec, tagset_size, torch.FloatTensor(word_vectors.vectors))\n",
    "glove_model = t1_BiLSTMCRFTagger(glove_vectors.vector_size, hidden_dim_glove, vocab_size_glove, tagset_size, torch.FloatTensor(glove_vectors.vectors))\n",
    "fasttext_model = t1_BiLSTMCRFTagger(fasttext_vectors.vector_size, hidden_dim_fasttext, vocab_size_fasttext, tagset_size, torch.FloatTensor(fasttext_vectors.vectors))"
   ]
  },
  {
   "cell_type": "code",
   "execution_count": 22,
   "metadata": {},
   "outputs": [
    {
     "data": {
      "text/plain": [
       "<All keys matched successfully>"
      ]
     },
     "execution_count": 22,
     "metadata": {},
     "output_type": "execute_result"
    }
   ],
   "source": [
    "word2vec_model.load_state_dict(word2vec_state_dict)\n",
    "glove_model.load_state_dict(glove_state_dict)\n",
    "fasttext_model.load_state_dict(fasttext_state_dict)"
   ]
  },
  {
   "cell_type": "code",
   "execution_count": 23,
   "metadata": {},
   "outputs": [],
   "source": [
    "def t1_evaluate_model(model, test_loader):\n",
    "    test_loss = 0\n",
    "    test_all_preds = []\n",
    "    test_all_labels = []\n",
    "    criterion = nn.CrossEntropyLoss()\n",
    "    with torch.no_grad():\n",
    "        model.eval()\n",
    "        for text, labels in test_loader:\n",
    "            outputs = model(text)\n",
    "            loss = criterion(outputs.view(-1, tagset_size), labels.view(-1))\n",
    "            test_loss += loss.item()\n",
    "            _, predicted = torch.max(outputs, 2)\n",
    "            test_all_preds.extend(predicted.view(-1).cpu().numpy().tolist())\n",
    "            test_all_labels.extend(labels.view(-1).cpu().numpy().tolist())\n",
    "\n",
    "    # Calculate the accuracy and F1 score\n",
    "    test_f1 = f1_score(test_all_labels, test_all_preds, average='macro')\n",
    "    accuracy = accuracy_score(test_all_labels, test_all_preds)\n",
    "\n",
    "    return accuracy, test_f1\n"
   ]
  },
  {
   "cell_type": "code",
   "execution_count": 24,
   "metadata": {},
   "outputs": [
    {
     "name": "stdout",
     "output_type": "stream",
     "text": [
      "T2 Model 4 Word2Vec Test Accuracy: 0.9566702586206897  Test F1 Score: 0.4625821460029647\n",
      "T2 Model 4 GloVe Test Accuracy: 0.9494827586206896  Test F1 Score: 0.3455169452643622\n",
      "T2 Model 4 Fasttext Test Accuracy: 0.9597198275862069  Test F1 Score: 0.4277152762183393\n"
     ]
    }
   ],
   "source": [
    "word2vec_accuracy, word2vec_f1 = t1_evaluate_model(word2vec_model, test_loader_word2vec)\n",
    "glove_accuracy, glove_f1 = t1_evaluate_model(glove_model, test_loader_glove)\n",
    "fasttext_accuracy, fasttext_f1 = t1_evaluate_model(fasttext_model, test_loader_fasttext)\n",
    "\n",
    "# Print the results\n",
    "print(\"T2 Model 4 Word2Vec Test Accuracy:\", word2vec_accuracy, \" Test F1 Score:\", word2vec_f1)\n",
    "print(\"T2 Model 4 GloVe Test Accuracy:\", glove_accuracy, \" Test F1 Score:\", glove_f1)\n",
    "print(\"T2 Model 4 Fasttext Test Accuracy:\", fasttext_accuracy, \" Test F1 Score:\", fasttext_f1)"
   ]
  },
  {
   "cell_type": "markdown",
   "metadata": {},
   "source": [
    "## Dataset 1 Best model F1 for 13 labels bar graph"
   ]
  },
  {
   "cell_type": "code",
   "execution_count": 25,
   "metadata": {},
   "outputs": [],
   "source": [
    "# Define the BiLSTM-CRF model\n",
    "class BiLSTMCRFTagger(nn.Module):\n",
    "    def __init__(self, embedding_dim, hidden_dim, vocab_size, tagset_size, word_embeddings):\n",
    "        super(BiLSTMCRFTagger, self).__init__()\n",
    "        self.embedding = nn.Embedding.from_pretrained(word_embeddings, freeze=True)\n",
    "        self.lstm = nn.LSTM(embedding_dim, hidden_dim, batch_first=True, bidirectional=True)\n",
    "        self.hidden2tag = nn.Linear(hidden_dim * 2, tagset_size)\n",
    "        self.crf = CRF(tagset_size)\n",
    "    \n",
    "    def forward(self, sentence):\n",
    "        embeds = self.embedding(sentence)\n",
    "        lstm_out, _ = self.lstm(embeds)\n",
    "        tag_space = self.hidden2tag(lstm_out)\n",
    "        return tag_space\n",
    "\n",
    "# Define the dataset\n",
    "class ReviewDataset(Dataset):\n",
    "    def __init__(self, data_path, word_vectors, max_seq_length):\n",
    "        self.data_path = data_path\n",
    "        self.word_vectors = word_vectors\n",
    "        self.max_seq_length = max_seq_length\n",
    "        self.data = self.load_data()\n",
    "        self.word_to_idx, self.label_to_idx = self.prepare_vocab()\n",
    "        self.X, self.y = self.prepare_data()\n",
    "\n",
    "    def load_data(self):\n",
    "        with open(self.data_path, 'r') as f:\n",
    "            data = json.load(f)\n",
    "        if isinstance(data, list):\n",
    "            data = {str(idx): sample for idx, sample in enumerate(data)}\n",
    "        return data\n",
    "\n",
    "    def prepare_vocab(self):\n",
    "        word_to_idx = {word: idx + 1 for idx, word in enumerate(self.word_vectors.index_to_key)}\n",
    "        label_to_idx = {\"O\": 1, \"B_RESPONDENT\": 2, \"I_RESPONDENT\": 3, \"B_DATE\": 4, \"I_DATE\":5, \"B_GPE\": 6, \"I_GPE\": 7, \"B_PROVISION\": 8, \n",
    "                        \"I_PROVISION\": 9, \"B_STATUTE\": 10, \"I_STATUTE\": 11, \"B_ORG\": 12, \"B_CASE_NUMBER\": 13, \"I_CASE_NUMBER\": 14, \n",
    "                        \"B_OTHER_PERSON\": 15, \"I_OTHER_PERSON\": 16, \"B_WITNESS\": 17, \"I_WITNESS\": 18, \"I_ORG\": 19, \"B_JUDGE\": 20, \"I_JUDGE\": 21, \n",
    "                        \"B_PETITIONER\": 22, \"I_PETITIONER\": 23, \"B_COURT\": 24, \"I_COURT\": 25, \"B_PRECEDENT\": 27, \"I_PRECEDENT\": 0}\n",
    "        return word_to_idx, label_to_idx\n",
    "\n",
    "    def prepare_data(self):\n",
    "        X, y = [], []\n",
    "        max_text_length = 0\n",
    "        max_label_length = 0\n",
    "\n",
    "        for sample_id, sample_data in self.data.items():\n",
    "            text = sample_data['text'].split()\n",
    "            labels = sample_data['labels']\n",
    "\n",
    "            text_indices = [self.word_to_idx.get(word, 0) for word in text]\n",
    "            label_indices = [self.label_to_idx[label] for label in labels]\n",
    "\n",
    "            X.append(torch.tensor(text_indices))\n",
    "            y.append(torch.tensor(label_indices))\n",
    "\n",
    "            max_text_length = max(max_text_length, len(text_indices))\n",
    "            max_label_length = max(max_label_length, len(label_indices))\n",
    "\n",
    "        # Pad both X and y to the maximum length\n",
    "        X_padded = pad_sequence(X, batch_first=True, padding_value=0)\n",
    "        y_padded = pad_sequence(y, batch_first=True, padding_value=0)\n",
    "\n",
    "        # Truncate to max_seq_length if necessary\n",
    "        X_padded = X_padded[:, :self.max_seq_length]\n",
    "        y_padded = y_padded[:, :self.max_seq_length]\n",
    "\n",
    "        # Pad or truncate X and y to the same length\n",
    "        if X_padded.size(1) > y_padded.size(1):\n",
    "            y_padded = torch.nn.functional.pad(y_padded, (0, X_padded.size(1) - y_padded.size(1)), value=0)\n",
    "        elif y_padded.size(1) > X_padded.size(1):\n",
    "            X_padded = torch.nn.functional.pad(X_padded, (0, y_padded.size(1) - X_padded.size(1)), value=0)\n",
    "\n",
    "        print(\"X_padded\", X_padded.shape)\n",
    "        print(\"Y_padded\", y_padded.shape)\n",
    "        return X_padded, y_padded\n",
    "\n",
    "    def __len__(self):\n",
    "        return len(self.data)\n",
    "\n",
    "    def __getitem__(self, idx):\n",
    "        return self.X[idx], self.y[idx]\n",
    "\n",
    "# Define the CRF layer\n",
    "class CRF(nn.Module):\n",
    "    def __init__(self, num_tags):\n",
    "        super(CRF, self).__init__()\n",
    "        self.num_tags = num_tags\n",
    "        self.transitions = nn.Parameter(torch.randn(num_tags, num_tags))\n",
    "\n",
    "    def forward(self, feats):\n",
    "        return feats"
   ]
  },
  {
   "cell_type": "code",
   "execution_count": 26,
   "metadata": {},
   "outputs": [
    {
     "name": "stdout",
     "output_type": "stream",
     "text": [
      "X_padded torch.Size([949, 100])\n",
      "Y_padded torch.Size([949, 100])\n"
     ]
    }
   ],
   "source": [
    "# Define hyperparameters\n",
    "max_seq_length = 100\n",
    "hidden_dim_word2vec = 125\n",
    "tagset_size = 28\n",
    "\n",
    "# Create data loaders\n",
    "test_dataset_word2vec = ReviewDataset('NER_test.json', word_vectors, max_seq_length)\n",
    "test_loader_word2vec = DataLoader(test_dataset_word2vec, batch_size=32, drop_last=True)"
   ]
  },
  {
   "cell_type": "code",
   "execution_count": 28,
   "metadata": {},
   "outputs": [],
   "source": [
    "word2vec_state_dict = torch.load('Dataset1_BILSTM-CRF/t1_model4_word2vec.pt')\n",
    "vocab_size_word2vec = len(word_vectors.index_to_key)\n",
    "word2vec_model = BiLSTMCRFTagger(word_vectors.vector_size, hidden_dim_word2vec, vocab_size_word2vec, tagset_size, torch.FloatTensor(word_vectors.vectors))"
   ]
  },
  {
   "cell_type": "code",
   "execution_count": 29,
   "metadata": {},
   "outputs": [
    {
     "data": {
      "text/plain": [
       "<All keys matched successfully>"
      ]
     },
     "execution_count": 29,
     "metadata": {},
     "output_type": "execute_result"
    }
   ],
   "source": [
    "word2vec_model.load_state_dict(word2vec_state_dict)"
   ]
  },
  {
   "cell_type": "code",
   "execution_count": 30,
   "metadata": {},
   "outputs": [
    {
     "data": {
      "image/png": "[encoded data removed]",
      "text/plain": [
       "<Figure size 1200x600 with 1 Axes>"
      ]
     },
     "metadata": {},
     "output_type": "display_data"
    }
   ],
   "source": [
    "def evaluate_model(model, test_loader, tagset_size):\n",
    "    all_preds = []\n",
    "    all_labels = []\n",
    "\n",
    "    with torch.no_grad():\n",
    "        model.eval()\n",
    "        for X, y in test_loader:\n",
    "            outputs = model(X)\n",
    "            _, predicted = torch.max(outputs, 2)\n",
    "            all_preds.extend(predicted.view(-1).cpu().numpy())\n",
    "            all_labels.extend(y.view(-1).cpu().numpy())\n",
    "\n",
    "    f1_scores = f1_score(all_labels, all_preds, average=None, labels=list(range(1, tagset_size)), zero_division=1)\n",
    "    return f1_scores\n",
    "\n",
    "# Define labels for the plot\n",
    "labels = ['O', 'B_RESPONDENT', 'I_RESPONDENT', 'B_DATE', 'I_DATE', 'B_GPE', 'I_GPE', 'B_PROVISION', 'I_PROVISION',\n",
    "          'B_STATUTE', 'I_STATUTE', 'B_ORG', 'B_CASE_NUMBER', 'I_CASE_NUMBER', 'B_OTHER_PERSON', 'I_OTHER_PERSON',\n",
    "          'B_WITNESS', 'I_WITNESS', 'I_ORG', 'B_JUDGE', 'I_JUDGE', 'B_PETITIONER', 'I_PETITIONER', 'B_COURT', 'I_COURT',\n",
    "          'B_PRECEDENT', 'I_PRECEDENT']\n",
    "\n",
    "# Calculate label-wise F1 scores\n",
    "label_f1_scores = evaluate_model(word2vec_model, test_loader_word2vec, tagset_size)\n",
    "\n",
    "# Plot the bar graph\n",
    "plt.figure(figsize=(12, 6))\n",
    "plt.bar(labels, label_f1_scores)\n",
    "plt.xlabel('Labels')\n",
    "plt.ylabel('F1 Score')\n",
    "plt.title('Label-wise F1 Scores for Dataset_1')\n",
    "plt.xticks(rotation=90)\n",
    "plt.tight_layout()\n",
    "plt.show()"
   ]
  },
  {
   "cell_type": "code",
   "execution_count": 31,
   "metadata": {},
   "outputs": [
    {
     "name": "stdout",
     "output_type": "stream",
     "text": [
      "Label: O F1: 0.9391851785232485\n",
      "Label: B_RESPONDENT F1: 0.25\n",
      "Label: I_RESPONDENT F1: 0.21052631578947367\n",
      "Label: B_DATE F1: 0.773067331670823\n",
      "Label: I_DATE F1: 0.6633165829145728\n",
      "Label: B_GPE F1: 0.17167381974248927\n",
      "Label: I_GPE F1: 0.06779661016949153\n",
      "Label: B_PROVISION F1: 0.7536945812807881\n",
      "Label: I_PROVISION F1: 0.7575360419397117\n",
      "Label: B_STATUTE F1: 0.5529411764705883\n",
      "Label: I_STATUTE F1: 0.5742251223491027\n",
      "Label: B_ORG F1: 0.3114754098360656\n",
      "Label: B_CASE_NUMBER F1: 0.37267080745341613\n",
      "Label: I_CASE_NUMBER F1: 0.5328596802841918\n",
      "Label: B_OTHER_PERSON F1: 0.36082474226804123\n",
      "Label: I_OTHER_PERSON F1: 0.3044982698961938\n",
      "Label: B_WITNESS F1: 0.23076923076923078\n",
      "Label: I_WITNESS F1: 0.18604651162790697\n",
      "Label: I_ORG F1: 0.3470715835140998\n",
      "Label: B_JUDGE F1: 0.4\n",
      "Label: I_JUDGE F1: 0.47058823529411764\n",
      "Label: B_PETITIONER F1: 0.10526315789473684\n",
      "Label: I_PETITIONER F1: 0.08695652173913043\n",
      "Label: B_COURT F1: 0.7746031746031746\n",
      "Label: I_COURT F1: 0.7446043165467626\n",
      "Label: B_PRECEDENT F1: 1.0\n",
      "Label: I_PRECEDENT F1: 0.5612903225806452\n"
     ]
    }
   ],
   "source": [
    "for i in range(len(labels)):\n",
    "    print(f\"Label: {labels[i]} F1: {label_f1_scores[i]}\")"
   ]
  },
  {
   "cell_type": "code",
   "execution_count": 32,
   "metadata": {},
   "outputs": [
    {
     "data": {
      "image/png": "[encoded data removed]",
      "text/plain": [
       "<Figure size 1200x600 with 1 Axes>"
      ]
     },
     "metadata": {},
     "output_type": "display_data"
    }
   ],
   "source": [
    "# Initialize dictionaries to store F1 scores for B_label and I_label\n",
    "b_label_f1 = {}\n",
    "i_label_f1 = {}\n",
    "\n",
    "# Calculate average F1 scores for each label\n",
    "for label in labels[1:]:  # Exclude 'O' label\n",
    "    if label.startswith('B_'):\n",
    "        entity = label[2:]\n",
    "        b_label_f1[entity] = label_f1_scores[labels.index(label)]\n",
    "    elif label.startswith('I_'):\n",
    "        entity = label[2:]\n",
    "        if entity not in i_label_f1:\n",
    "            i_label_f1[entity] = []\n",
    "        i_label_f1[entity].append(label_f1_scores[labels.index(label)])\n",
    "        \n",
    "\n",
    "# Calculate average F1 scores for each entity type\n",
    "entity_f1 = {}\n",
    "for entity in b_label_f1:\n",
    "    if entity in i_label_f1:\n",
    "        avg_f1 = (b_label_f1[entity] + np.mean(i_label_f1[entity])) / 2\n",
    "        entity_f1[entity] = avg_f1\n",
    "    else:\n",
    "        entity_f1[entity] = b_label_f1[entity]\n",
    "\n",
    "# Plot the bar graph\n",
    "import matplotlib.pyplot as plt\n",
    "\n",
    "plt.figure(figsize=(12, 6))\n",
    "plt.bar(entity_f1.keys(), entity_f1.values(), color='skyblue')\n",
    "plt.xlabel('Entity Type')\n",
    "plt.ylabel('F1 Score')\n",
    "plt.title('Average F1 Scores for Entity Types')\n",
    "plt.xticks(rotation=45)\n",
    "plt.grid(axis='y')\n",
    "plt.show()"
   ]
  },
  {
   "cell_type": "code",
   "execution_count": 33,
   "metadata": {},
   "outputs": [
    {
     "data": {
      "text/plain": [
       "{'RESPONDENT': 0.23026315789473684,\n",
       " 'DATE': 0.7181919572926979,\n",
       " 'GPE': 0.1197352149559904,\n",
       " 'PROVISION': 0.75561531161025,\n",
       " 'STATUTE': 0.5635831494098456,\n",
       " 'ORG': 0.32927349667508266,\n",
       " 'CASE_NUMBER': 0.452765243868804,\n",
       " 'OTHER_PERSON': 0.33266150608211753,\n",
       " 'WITNESS': 0.20840787119856888,\n",
       " 'JUDGE': 0.43529411764705883,\n",
       " 'PETITIONER': 0.09610983981693363,\n",
       " 'COURT': 0.7596037455749687,\n",
       " 'PRECEDENT': 0.7806451612903226}"
      ]
     },
     "execution_count": 33,
     "metadata": {},
     "output_type": "execute_result"
    }
   ],
   "source": [
    "entity_f1"
   ]
  },
  {
   "cell_type": "code",
   "execution_count": null,
   "metadata": {},
   "outputs": [],
   "source": []
  }
 ],
 "metadata": {
  "kernelspec": {
   "display_name": "dl_env",
   "language": "python",
   "name": "python3"
  },
  "language_info": {
   "codemirror_mode": {
    "name": "ipython",
    "version": 3
   },
   "file_extension": ".py",
   "mimetype": "text/x-python",
   "name": "python",
   "nbconvert_exporter": "python",
   "pygments_lexer": "ipython3",
   "version": "3.11.8"
  }
 },
 "nbformat": 4,
 "nbformat_minor": 2
}
